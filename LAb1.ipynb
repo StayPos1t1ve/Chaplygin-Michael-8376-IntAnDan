{
 "cells": [
  {
   "cell_type": "markdown",
   "id": "2483cba8",
   "metadata": {},
   "source": [
    "# Исследование набора данных по качеству вина"
   ]
  },
  {
   "cell_type": "code",
   "execution_count": 21,
   "id": "89e5e2f1",
   "metadata": {},
   "outputs": [],
   "source": [
    "# Предметная область - качество вина\n",
    "# Источник данных: https://www.kaggle.com/datasets/yasserh/wine-quality-dataset?resource=download\n",
    "# Характер данных: реальные данные\n",
    "# Набор данных описывает количество различных химических веществ, присутствующих в вине, и их влияние на его качество.\n",
    "# Атрибуты: \n",
    "# 1 - фиксированная кислотность\\\n",
    "# 2 - летучая кислотность\\\n",
    "# 3 - лимонная кислота\\\n",
    "# 4 - остаточный сахар\\\n",
    "# 5 - хлориды\\\n",
    "# 6 - свободный диоксид серы\\\n",
    "# 7 - общий диоксид серы\\\n",
    "# 8 - плотность\\\n",
    "# 9 - рН\\\n",
    "# 10 - сульфаты\\\n",
    "# 11 - алкоголь\\\n",
    "# Задача — предсказать качество вина по заданным данным."
   ]
  },
  {
   "cell_type": "code",
   "execution_count": 22,
   "id": "9c8e0171",
   "metadata": {},
   "outputs": [],
   "source": [
    "import numpy as np\n",
    "import pandas as pd\n",
    "import matplotlib.pyplot as plt\n",
    "import seaborn as sns"
   ]
  },
  {
   "cell_type": "code",
   "execution_count": 23,
   "id": "3b82f256",
   "metadata": {},
   "outputs": [],
   "source": [
    "df = pd.read_csv('WineQT.csv')"
   ]
  },
  {
   "cell_type": "code",
   "execution_count": 24,
   "id": "dd238e74",
   "metadata": {},
   "outputs": [
    {
     "data": {
      "text/html": [
       "<div>\n",
       "<style scoped>\n",
       "    .dataframe tbody tr th:only-of-type {\n",
       "        vertical-align: middle;\n",
       "    }\n",
       "\n",
       "    .dataframe tbody tr th {\n",
       "        vertical-align: top;\n",
       "    }\n",
       "\n",
       "    .dataframe thead th {\n",
       "        text-align: right;\n",
       "    }\n",
       "</style>\n",
       "<table border=\"1\" class=\"dataframe\">\n",
       "  <thead>\n",
       "    <tr style=\"text-align: right;\">\n",
       "      <th></th>\n",
       "      <th>fixed acidity</th>\n",
       "      <th>volatile acidity</th>\n",
       "      <th>citric acid</th>\n",
       "      <th>residual sugar</th>\n",
       "      <th>chlorides</th>\n",
       "      <th>free sulfur dioxide</th>\n",
       "      <th>total sulfur dioxide</th>\n",
       "      <th>density</th>\n",
       "      <th>pH</th>\n",
       "      <th>sulphates</th>\n",
       "      <th>alcohol</th>\n",
       "      <th>quality</th>\n",
       "      <th>Id</th>\n",
       "    </tr>\n",
       "  </thead>\n",
       "  <tbody>\n",
       "    <tr>\n",
       "      <th>0</th>\n",
       "      <td>7.4</td>\n",
       "      <td>0.70</td>\n",
       "      <td>0.00</td>\n",
       "      <td>1.9</td>\n",
       "      <td>0.076</td>\n",
       "      <td>11.0</td>\n",
       "      <td>34.0</td>\n",
       "      <td>0.9978</td>\n",
       "      <td>3.51</td>\n",
       "      <td>0.56</td>\n",
       "      <td>9.4</td>\n",
       "      <td>5</td>\n",
       "      <td>0</td>\n",
       "    </tr>\n",
       "    <tr>\n",
       "      <th>1</th>\n",
       "      <td>7.8</td>\n",
       "      <td>0.88</td>\n",
       "      <td>0.00</td>\n",
       "      <td>2.6</td>\n",
       "      <td>0.098</td>\n",
       "      <td>25.0</td>\n",
       "      <td>67.0</td>\n",
       "      <td>0.9968</td>\n",
       "      <td>3.20</td>\n",
       "      <td>0.68</td>\n",
       "      <td>9.8</td>\n",
       "      <td>5</td>\n",
       "      <td>1</td>\n",
       "    </tr>\n",
       "    <tr>\n",
       "      <th>2</th>\n",
       "      <td>7.8</td>\n",
       "      <td>0.76</td>\n",
       "      <td>0.04</td>\n",
       "      <td>2.3</td>\n",
       "      <td>0.092</td>\n",
       "      <td>15.0</td>\n",
       "      <td>54.0</td>\n",
       "      <td>0.9970</td>\n",
       "      <td>3.26</td>\n",
       "      <td>0.65</td>\n",
       "      <td>9.8</td>\n",
       "      <td>5</td>\n",
       "      <td>2</td>\n",
       "    </tr>\n",
       "    <tr>\n",
       "      <th>3</th>\n",
       "      <td>11.2</td>\n",
       "      <td>0.28</td>\n",
       "      <td>0.56</td>\n",
       "      <td>1.9</td>\n",
       "      <td>0.075</td>\n",
       "      <td>17.0</td>\n",
       "      <td>60.0</td>\n",
       "      <td>0.9980</td>\n",
       "      <td>3.16</td>\n",
       "      <td>0.58</td>\n",
       "      <td>9.8</td>\n",
       "      <td>6</td>\n",
       "      <td>3</td>\n",
       "    </tr>\n",
       "    <tr>\n",
       "      <th>4</th>\n",
       "      <td>7.4</td>\n",
       "      <td>0.70</td>\n",
       "      <td>0.00</td>\n",
       "      <td>1.9</td>\n",
       "      <td>0.076</td>\n",
       "      <td>11.0</td>\n",
       "      <td>34.0</td>\n",
       "      <td>0.9978</td>\n",
       "      <td>3.51</td>\n",
       "      <td>0.56</td>\n",
       "      <td>9.4</td>\n",
       "      <td>5</td>\n",
       "      <td>4</td>\n",
       "    </tr>\n",
       "  </tbody>\n",
       "</table>\n",
       "</div>"
      ],
      "text/plain": [
       "   fixed acidity  volatile acidity  citric acid  residual sugar  chlorides  \\\n",
       "0            7.4              0.70         0.00             1.9      0.076   \n",
       "1            7.8              0.88         0.00             2.6      0.098   \n",
       "2            7.8              0.76         0.04             2.3      0.092   \n",
       "3           11.2              0.28         0.56             1.9      0.075   \n",
       "4            7.4              0.70         0.00             1.9      0.076   \n",
       "\n",
       "   free sulfur dioxide  total sulfur dioxide  density    pH  sulphates  \\\n",
       "0                 11.0                  34.0   0.9978  3.51       0.56   \n",
       "1                 25.0                  67.0   0.9968  3.20       0.68   \n",
       "2                 15.0                  54.0   0.9970  3.26       0.65   \n",
       "3                 17.0                  60.0   0.9980  3.16       0.58   \n",
       "4                 11.0                  34.0   0.9978  3.51       0.56   \n",
       "\n",
       "   alcohol  quality  Id  \n",
       "0      9.4        5   0  \n",
       "1      9.8        5   1  \n",
       "2      9.8        5   2  \n",
       "3      9.8        6   3  \n",
       "4      9.4        5   4  "
      ]
     },
     "execution_count": 24,
     "metadata": {},
     "output_type": "execute_result"
    }
   ],
   "source": [
    "df.head()"
   ]
  },
  {
   "cell_type": "code",
   "execution_count": 25,
   "id": "98c1d56d",
   "metadata": {},
   "outputs": [],
   "source": [
    "df=df.set_index('Id')"
   ]
  },
  {
   "cell_type": "code",
   "execution_count": 26,
   "id": "4737aef2",
   "metadata": {},
   "outputs": [],
   "source": [
    "# среднее значение"
   ]
  },
  {
   "cell_type": "code",
   "execution_count": 27,
   "id": "d914854b",
   "metadata": {},
   "outputs": [
    {
     "data": {
      "text/plain": [
       "Index(['fixed acidity', 'volatile acidity', 'citric acid', 'residual sugar',\n",
       "       'chlorides', 'free sulfur dioxide', 'total sulfur dioxide', 'density',\n",
       "       'pH', 'sulphates', 'alcohol', 'quality'],\n",
       "      dtype='object')"
      ]
     },
     "execution_count": 27,
     "metadata": {},
     "output_type": "execute_result"
    }
   ],
   "source": [
    "df.columns"
   ]
  },
  {
   "cell_type": "code",
   "execution_count": 28,
   "id": "6b971def",
   "metadata": {
    "scrolled": true
   },
   "outputs": [
    {
     "data": {
      "text/plain": [
       "fixed acidity            8.311111\n",
       "volatile acidity         0.531339\n",
       "citric acid              0.268364\n",
       "residual sugar           2.532152\n",
       "chlorides                0.086933\n",
       "free sulfur dioxide     15.615486\n",
       "total sulfur dioxide    45.914698\n",
       "density                  0.996730\n",
       "pH                       3.311015\n",
       "sulphates                0.657708\n",
       "alcohol                 10.442111\n",
       "quality                  5.657043\n",
       "dtype: float64"
      ]
     },
     "execution_count": 28,
     "metadata": {},
     "output_type": "execute_result"
    }
   ],
   "source": [
    "df.mean()"
   ]
  },
  {
   "cell_type": "code",
   "execution_count": 29,
   "id": "ed68aa58",
   "metadata": {},
   "outputs": [],
   "source": [
    "# ско"
   ]
  },
  {
   "cell_type": "code",
   "execution_count": 30,
   "id": "6767dd27",
   "metadata": {},
   "outputs": [
    {
     "data": {
      "text/plain": [
       "fixed acidity            1.747595\n",
       "volatile acidity         0.179633\n",
       "citric acid              0.196686\n",
       "residual sugar           1.355917\n",
       "chlorides                0.047267\n",
       "free sulfur dioxide     10.250486\n",
       "total sulfur dioxide    32.782130\n",
       "density                  0.001925\n",
       "pH                       0.156664\n",
       "sulphates                0.170399\n",
       "alcohol                  1.082196\n",
       "quality                  0.805824\n",
       "dtype: float64"
      ]
     },
     "execution_count": 30,
     "metadata": {},
     "output_type": "execute_result"
    }
   ],
   "source": [
    "df.std()"
   ]
  },
  {
   "cell_type": "code",
   "execution_count": 31,
   "id": "092667e8",
   "metadata": {},
   "outputs": [
    {
     "data": {
      "text/html": [
       "<div>\n",
       "<style scoped>\n",
       "    .dataframe tbody tr th:only-of-type {\n",
       "        vertical-align: middle;\n",
       "    }\n",
       "\n",
       "    .dataframe tbody tr th {\n",
       "        vertical-align: top;\n",
       "    }\n",
       "\n",
       "    .dataframe thead th {\n",
       "        text-align: right;\n",
       "    }\n",
       "</style>\n",
       "<table border=\"1\" class=\"dataframe\">\n",
       "  <thead>\n",
       "    <tr style=\"text-align: right;\">\n",
       "      <th></th>\n",
       "      <th>fixed acidity</th>\n",
       "      <th>volatile acidity</th>\n",
       "      <th>citric acid</th>\n",
       "      <th>residual sugar</th>\n",
       "      <th>chlorides</th>\n",
       "      <th>free sulfur dioxide</th>\n",
       "      <th>total sulfur dioxide</th>\n",
       "      <th>density</th>\n",
       "      <th>pH</th>\n",
       "      <th>sulphates</th>\n",
       "      <th>alcohol</th>\n",
       "      <th>quality</th>\n",
       "    </tr>\n",
       "  </thead>\n",
       "  <tbody>\n",
       "    <tr>\n",
       "      <th>count</th>\n",
       "      <td>1143.000000</td>\n",
       "      <td>1143.000000</td>\n",
       "      <td>1143.000000</td>\n",
       "      <td>1143.000000</td>\n",
       "      <td>1143.000000</td>\n",
       "      <td>1143.000000</td>\n",
       "      <td>1143.000000</td>\n",
       "      <td>1143.000000</td>\n",
       "      <td>1143.000000</td>\n",
       "      <td>1143.000000</td>\n",
       "      <td>1143.000000</td>\n",
       "      <td>1143.000000</td>\n",
       "    </tr>\n",
       "    <tr>\n",
       "      <th>mean</th>\n",
       "      <td>8.311111</td>\n",
       "      <td>0.531339</td>\n",
       "      <td>0.268364</td>\n",
       "      <td>2.532152</td>\n",
       "      <td>0.086933</td>\n",
       "      <td>15.615486</td>\n",
       "      <td>45.914698</td>\n",
       "      <td>0.996730</td>\n",
       "      <td>3.311015</td>\n",
       "      <td>0.657708</td>\n",
       "      <td>10.442111</td>\n",
       "      <td>5.657043</td>\n",
       "    </tr>\n",
       "    <tr>\n",
       "      <th>std</th>\n",
       "      <td>1.747595</td>\n",
       "      <td>0.179633</td>\n",
       "      <td>0.196686</td>\n",
       "      <td>1.355917</td>\n",
       "      <td>0.047267</td>\n",
       "      <td>10.250486</td>\n",
       "      <td>32.782130</td>\n",
       "      <td>0.001925</td>\n",
       "      <td>0.156664</td>\n",
       "      <td>0.170399</td>\n",
       "      <td>1.082196</td>\n",
       "      <td>0.805824</td>\n",
       "    </tr>\n",
       "    <tr>\n",
       "      <th>min</th>\n",
       "      <td>4.600000</td>\n",
       "      <td>0.120000</td>\n",
       "      <td>0.000000</td>\n",
       "      <td>0.900000</td>\n",
       "      <td>0.012000</td>\n",
       "      <td>1.000000</td>\n",
       "      <td>6.000000</td>\n",
       "      <td>0.990070</td>\n",
       "      <td>2.740000</td>\n",
       "      <td>0.330000</td>\n",
       "      <td>8.400000</td>\n",
       "      <td>3.000000</td>\n",
       "    </tr>\n",
       "    <tr>\n",
       "      <th>25%</th>\n",
       "      <td>7.100000</td>\n",
       "      <td>0.392500</td>\n",
       "      <td>0.090000</td>\n",
       "      <td>1.900000</td>\n",
       "      <td>0.070000</td>\n",
       "      <td>7.000000</td>\n",
       "      <td>21.000000</td>\n",
       "      <td>0.995570</td>\n",
       "      <td>3.205000</td>\n",
       "      <td>0.550000</td>\n",
       "      <td>9.500000</td>\n",
       "      <td>5.000000</td>\n",
       "    </tr>\n",
       "    <tr>\n",
       "      <th>50%</th>\n",
       "      <td>7.900000</td>\n",
       "      <td>0.520000</td>\n",
       "      <td>0.250000</td>\n",
       "      <td>2.200000</td>\n",
       "      <td>0.079000</td>\n",
       "      <td>13.000000</td>\n",
       "      <td>37.000000</td>\n",
       "      <td>0.996680</td>\n",
       "      <td>3.310000</td>\n",
       "      <td>0.620000</td>\n",
       "      <td>10.200000</td>\n",
       "      <td>6.000000</td>\n",
       "    </tr>\n",
       "    <tr>\n",
       "      <th>75%</th>\n",
       "      <td>9.100000</td>\n",
       "      <td>0.640000</td>\n",
       "      <td>0.420000</td>\n",
       "      <td>2.600000</td>\n",
       "      <td>0.090000</td>\n",
       "      <td>21.000000</td>\n",
       "      <td>61.000000</td>\n",
       "      <td>0.997845</td>\n",
       "      <td>3.400000</td>\n",
       "      <td>0.730000</td>\n",
       "      <td>11.100000</td>\n",
       "      <td>6.000000</td>\n",
       "    </tr>\n",
       "    <tr>\n",
       "      <th>max</th>\n",
       "      <td>15.900000</td>\n",
       "      <td>1.580000</td>\n",
       "      <td>1.000000</td>\n",
       "      <td>15.500000</td>\n",
       "      <td>0.611000</td>\n",
       "      <td>68.000000</td>\n",
       "      <td>289.000000</td>\n",
       "      <td>1.003690</td>\n",
       "      <td>4.010000</td>\n",
       "      <td>2.000000</td>\n",
       "      <td>14.900000</td>\n",
       "      <td>8.000000</td>\n",
       "    </tr>\n",
       "  </tbody>\n",
       "</table>\n",
       "</div>"
      ],
      "text/plain": [
       "       fixed acidity  volatile acidity  citric acid  residual sugar  \\\n",
       "count    1143.000000       1143.000000  1143.000000     1143.000000   \n",
       "mean        8.311111          0.531339     0.268364        2.532152   \n",
       "std         1.747595          0.179633     0.196686        1.355917   \n",
       "min         4.600000          0.120000     0.000000        0.900000   \n",
       "25%         7.100000          0.392500     0.090000        1.900000   \n",
       "50%         7.900000          0.520000     0.250000        2.200000   \n",
       "75%         9.100000          0.640000     0.420000        2.600000   \n",
       "max        15.900000          1.580000     1.000000       15.500000   \n",
       "\n",
       "         chlorides  free sulfur dioxide  total sulfur dioxide      density  \\\n",
       "count  1143.000000          1143.000000           1143.000000  1143.000000   \n",
       "mean      0.086933            15.615486             45.914698     0.996730   \n",
       "std       0.047267            10.250486             32.782130     0.001925   \n",
       "min       0.012000             1.000000              6.000000     0.990070   \n",
       "25%       0.070000             7.000000             21.000000     0.995570   \n",
       "50%       0.079000            13.000000             37.000000     0.996680   \n",
       "75%       0.090000            21.000000             61.000000     0.997845   \n",
       "max       0.611000            68.000000            289.000000     1.003690   \n",
       "\n",
       "                pH    sulphates      alcohol      quality  \n",
       "count  1143.000000  1143.000000  1143.000000  1143.000000  \n",
       "mean      3.311015     0.657708    10.442111     5.657043  \n",
       "std       0.156664     0.170399     1.082196     0.805824  \n",
       "min       2.740000     0.330000     8.400000     3.000000  \n",
       "25%       3.205000     0.550000     9.500000     5.000000  \n",
       "50%       3.310000     0.620000    10.200000     6.000000  \n",
       "75%       3.400000     0.730000    11.100000     6.000000  \n",
       "max       4.010000     2.000000    14.900000     8.000000  "
      ]
     },
     "execution_count": 31,
     "metadata": {},
     "output_type": "execute_result"
    }
   ],
   "source": [
    "df.describe() #Общая статистика в таблице"
   ]
  },
  {
   "cell_type": "code",
   "execution_count": 32,
   "id": "f89ae7ab",
   "metadata": {},
   "outputs": [],
   "source": [
    "# гистограммы"
   ]
  },
  {
   "cell_type": "code",
   "execution_count": 54,
   "id": "31caafae",
   "metadata": {},
   "outputs": [
    {
     "data": {
      "text/plain": [
       "<AxesSubplot: xlabel='quality', ylabel='Count'>"
      ]
     },
     "execution_count": 54,
     "metadata": {},
     "output_type": "execute_result"
    },
    {
     "data": {
      "image/png": "[encoded data removed]",
      "text/plain": [
       "<Figure size 800x800 with 12 Axes>"
      ]
     },
     "metadata": {},
     "output_type": "display_data"
    }
   ],
   "source": [
    "fig, ax = plt.subplots(4,3, figsize=(8,8))\n",
    "\n",
    "sns.histplot(data=df, x='fixed acidity', color='green', ax=ax[0,0])\n",
    "sns.histplot(data=df, x='volatile acidity', color='green', ax=ax[0,1])\n",
    "sns.histplot(data=df, x='citric acid', color='green', ax=ax[0,2])\n",
    "\n",
    "sns.histplot(data=df, x='residual sugar', color='green', ax=ax[1,0])\n",
    "sns.histplot(data=df, x='chlorides', color='green', ax=ax[1,1])\n",
    "sns.histplot(data=df, x='free sulfur dioxide', color='green', ax=ax[1,2])\n",
    "\n",
    "sns.histplot(data=df, x='total sulfur dioxide', color='green', ax=ax[2,0])\n",
    "sns.histplot(data=df, x='density', color='green', ax=ax[2,1])\n",
    "sns.histplot(data=df, x='pH', color='green', ax=ax[2,2])\n",
    "\n",
    "sns.histplot(data=df, x='sulphates', color='green', ax=ax[3,0])\n",
    "sns.histplot(data=df, x='alcohol', color='green', ax=ax[3,1])\n",
    "sns.histplot(data=df, x='quality', color='green', ax=ax[3,2])"
   ]
  },
  {
   "cell_type": "code",
   "execution_count": null,
   "id": "ba040abc",
   "metadata": {},
   "outputs": [],
   "source": [
    "# выбросы методом Межквартильного размаха"
   ]
  },
  {
   "cell_type": "code",
   "execution_count": 73,
   "id": "9826944e",
   "metadata": {},
   "outputs": [
    {
     "name": "stdout",
     "output_type": "stream",
     "text": [
      "\n",
      "Колонка ->  fixed acidity \n",
      "\n",
      " | Количество выбросов ->  44   Из общего ->  1143\n",
      "\n",
      " **********\n",
      "\n",
      "Колонка ->  volatile acidity \n",
      "\n",
      " | Количество выбросов ->  14   Из общего ->  1143\n",
      "\n",
      " **********\n",
      "\n",
      "Колонка ->  citric acid \n",
      "\n",
      " | Количество выбросов ->  1   Из общего ->  1143\n",
      "\n",
      " **********\n",
      "\n",
      "Колонка ->  residual sugar \n",
      "\n",
      " | Количество выбросов ->  110   Из общего ->  1143\n",
      "\n",
      " **********\n",
      "\n",
      "Колонка ->  chlorides \n",
      "\n",
      " | Количество выбросов ->  74   Из общего ->  1143\n",
      "\n",
      " **********\n",
      "\n",
      "Колонка ->  free sulfur dioxide \n",
      "\n",
      " | Количество выбросов ->  18   Из общего ->  1143\n",
      "\n",
      " **********\n",
      "\n",
      "Колонка ->  total sulfur dioxide \n",
      "\n",
      " | Количество выбросов ->  40   Из общего ->  1143\n",
      "\n",
      " **********\n",
      "\n",
      "Колонка ->  density \n",
      "\n",
      " | Количество выбросов ->  55   Из общего ->  1143\n",
      "\n",
      " **********\n",
      "\n",
      "Колонка ->  pH \n",
      "\n",
      " | Количество выбросов ->  20   Из общего ->  1143\n",
      "\n",
      " **********\n",
      "\n",
      "Колонка ->  sulphates \n",
      "\n",
      " | Количество выбросов ->  43   Из общего ->  1143\n",
      "\n",
      " **********\n",
      "\n",
      "Колонка ->  alcohol \n",
      "\n",
      " | Количество выбросов ->  12   Из общего ->  1143\n",
      "\n",
      " **********\n",
      "\n",
      "Колонка ->  quality \n",
      "\n",
      " | Количество выбросов ->  22   Из общего ->  1143\n",
      "\n",
      " **********\n"
     ]
    }
   ],
   "source": [
    "upper =df.quantile(0.75)+1.5 *(df.quantile(0.75)-df.quantile(0.25))\n",
    "lower = df.quantile(0.25)-1.5 *(df.quantile(0.75)-df.quantile(0.25))\n",
    "\n",
    "for i in data.columns[:-1]:\n",
    "\n",
    "    print('\\nКолонка -> ',i,'\\n')\n",
    "    \n",
    "    x= df[ (df[i]<round(lower[i],2)) |  (df[i]>round(upper[i],2))][i].to_list()\n",
    "    print(' | Количество выбросов -> ',len(x),'  Из общего -> ',len(df))\n",
    "    \n",
    "    print('\\n','*'*10)"
   ]
  },
  {
   "cell_type": "code",
   "execution_count": null,
   "id": "96950cdb",
   "metadata": {},
   "outputs": [],
   "source": [
    "# пропущенные значения"
   ]
  },
  {
   "cell_type": "code",
   "execution_count": 79,
   "id": "8991f8da",
   "metadata": {},
   "outputs": [
    {
     "name": "stdout",
     "output_type": "stream",
     "text": [
      "В колонке fixed acidity 0 пропущенных значений\n",
      "В колонке volatile acidity 0 пропущенных значений\n",
      "В колонке citric acid 0 пропущенных значений\n",
      "В колонке residual sugar 0 пропущенных значений\n",
      "В колонке chlorides 0 пропущенных значений\n",
      "В колонке free sulfur dioxide 0 пропущенных значений\n",
      "В колонке total sulfur dioxide 0 пропущенных значений\n",
      "В колонке density 0 пропущенных значений\n",
      "В колонке pH 0 пропущенных значений\n",
      "В колонке sulphates 0 пропущенных значений\n",
      "В колонке alcohol 0 пропущенных значений\n"
     ]
    }
   ],
   "source": [
    "for a in df.columns[:-1]:\n",
    "    missing_vals = df[a].isnull().sum() \n",
    "    print('В колонке '+ a + ' ' + str(missing_vals) + ' пропущенных значений')"
   ]
  },
  {
   "cell_type": "code",
   "execution_count": null,
   "id": "64ebfb8d",
   "metadata": {},
   "outputs": [],
   "source": [
    "# корреляция"
   ]
  },
  {
   "cell_type": "code",
   "execution_count": 74,
   "id": "a1dda124",
   "metadata": {},
   "outputs": [
    {
     "data": {
      "text/html": [
       "<div>\n",
       "<style scoped>\n",
       "    .dataframe tbody tr th:only-of-type {\n",
       "        vertical-align: middle;\n",
       "    }\n",
       "\n",
       "    .dataframe tbody tr th {\n",
       "        vertical-align: top;\n",
       "    }\n",
       "\n",
       "    .dataframe thead th {\n",
       "        text-align: right;\n",
       "    }\n",
       "</style>\n",
       "<table border=\"1\" class=\"dataframe\">\n",
       "  <thead>\n",
       "    <tr style=\"text-align: right;\">\n",
       "      <th></th>\n",
       "      <th>fixed acidity</th>\n",
       "      <th>volatile acidity</th>\n",
       "      <th>citric acid</th>\n",
       "      <th>residual sugar</th>\n",
       "      <th>chlorides</th>\n",
       "      <th>free sulfur dioxide</th>\n",
       "      <th>total sulfur dioxide</th>\n",
       "      <th>density</th>\n",
       "      <th>pH</th>\n",
       "      <th>sulphates</th>\n",
       "      <th>alcohol</th>\n",
       "      <th>quality</th>\n",
       "    </tr>\n",
       "  </thead>\n",
       "  <tbody>\n",
       "    <tr>\n",
       "      <th>fixed acidity</th>\n",
       "      <td>1.000000</td>\n",
       "      <td>-0.271597</td>\n",
       "      <td>0.653749</td>\n",
       "      <td>0.242521</td>\n",
       "      <td>0.272554</td>\n",
       "      <td>-0.190341</td>\n",
       "      <td>-0.093900</td>\n",
       "      <td>0.629644</td>\n",
       "      <td>-0.707010</td>\n",
       "      <td>0.194222</td>\n",
       "      <td>-0.085751</td>\n",
       "      <td>0.103887</td>\n",
       "    </tr>\n",
       "    <tr>\n",
       "      <th>volatile acidity</th>\n",
       "      <td>-0.271597</td>\n",
       "      <td>1.000000</td>\n",
       "      <td>-0.601305</td>\n",
       "      <td>0.012988</td>\n",
       "      <td>0.153031</td>\n",
       "      <td>0.021178</td>\n",
       "      <td>0.101862</td>\n",
       "      <td>0.019111</td>\n",
       "      <td>0.222106</td>\n",
       "      <td>-0.343500</td>\n",
       "      <td>-0.223379</td>\n",
       "      <td>-0.397784</td>\n",
       "    </tr>\n",
       "    <tr>\n",
       "      <th>citric acid</th>\n",
       "      <td>0.653749</td>\n",
       "      <td>-0.601305</td>\n",
       "      <td>1.000000</td>\n",
       "      <td>0.210283</td>\n",
       "      <td>0.142182</td>\n",
       "      <td>-0.075070</td>\n",
       "      <td>0.007291</td>\n",
       "      <td>0.354884</td>\n",
       "      <td>-0.544998</td>\n",
       "      <td>0.340666</td>\n",
       "      <td>0.090691</td>\n",
       "      <td>0.222882</td>\n",
       "    </tr>\n",
       "    <tr>\n",
       "      <th>residual sugar</th>\n",
       "      <td>0.242521</td>\n",
       "      <td>0.012988</td>\n",
       "      <td>0.210283</td>\n",
       "      <td>1.000000</td>\n",
       "      <td>0.201531</td>\n",
       "      <td>0.051230</td>\n",
       "      <td>0.124370</td>\n",
       "      <td>0.422578</td>\n",
       "      <td>-0.108683</td>\n",
       "      <td>0.030979</td>\n",
       "      <td>0.123493</td>\n",
       "      <td>0.030614</td>\n",
       "    </tr>\n",
       "    <tr>\n",
       "      <th>chlorides</th>\n",
       "      <td>0.272554</td>\n",
       "      <td>0.153031</td>\n",
       "      <td>0.142182</td>\n",
       "      <td>0.201531</td>\n",
       "      <td>1.000000</td>\n",
       "      <td>0.002484</td>\n",
       "      <td>0.126247</td>\n",
       "      <td>0.426509</td>\n",
       "      <td>-0.249068</td>\n",
       "      <td>0.001763</td>\n",
       "      <td>-0.309720</td>\n",
       "      <td>-0.193814</td>\n",
       "    </tr>\n",
       "    <tr>\n",
       "      <th>free sulfur dioxide</th>\n",
       "      <td>-0.190341</td>\n",
       "      <td>0.021178</td>\n",
       "      <td>-0.075070</td>\n",
       "      <td>0.051230</td>\n",
       "      <td>0.002484</td>\n",
       "      <td>1.000000</td>\n",
       "      <td>0.793745</td>\n",
       "      <td>-0.071330</td>\n",
       "      <td>0.113952</td>\n",
       "      <td>0.028295</td>\n",
       "      <td>-0.064219</td>\n",
       "      <td>-0.059213</td>\n",
       "    </tr>\n",
       "    <tr>\n",
       "      <th>total sulfur dioxide</th>\n",
       "      <td>-0.093900</td>\n",
       "      <td>0.101862</td>\n",
       "      <td>0.007291</td>\n",
       "      <td>0.124370</td>\n",
       "      <td>0.126247</td>\n",
       "      <td>0.793745</td>\n",
       "      <td>1.000000</td>\n",
       "      <td>0.109786</td>\n",
       "      <td>-0.001788</td>\n",
       "      <td>-0.010544</td>\n",
       "      <td>-0.243461</td>\n",
       "      <td>-0.194570</td>\n",
       "    </tr>\n",
       "    <tr>\n",
       "      <th>density</th>\n",
       "      <td>0.629644</td>\n",
       "      <td>0.019111</td>\n",
       "      <td>0.354884</td>\n",
       "      <td>0.422578</td>\n",
       "      <td>0.426509</td>\n",
       "      <td>-0.071330</td>\n",
       "      <td>0.109786</td>\n",
       "      <td>1.000000</td>\n",
       "      <td>-0.316985</td>\n",
       "      <td>0.154057</td>\n",
       "      <td>-0.471354</td>\n",
       "      <td>-0.176505</td>\n",
       "    </tr>\n",
       "    <tr>\n",
       "      <th>pH</th>\n",
       "      <td>-0.707010</td>\n",
       "      <td>0.222106</td>\n",
       "      <td>-0.544998</td>\n",
       "      <td>-0.108683</td>\n",
       "      <td>-0.249068</td>\n",
       "      <td>0.113952</td>\n",
       "      <td>-0.001788</td>\n",
       "      <td>-0.316985</td>\n",
       "      <td>1.000000</td>\n",
       "      <td>-0.063352</td>\n",
       "      <td>0.195499</td>\n",
       "      <td>-0.033205</td>\n",
       "    </tr>\n",
       "    <tr>\n",
       "      <th>sulphates</th>\n",
       "      <td>0.194222</td>\n",
       "      <td>-0.343500</td>\n",
       "      <td>0.340666</td>\n",
       "      <td>0.030979</td>\n",
       "      <td>0.001763</td>\n",
       "      <td>0.028295</td>\n",
       "      <td>-0.010544</td>\n",
       "      <td>0.154057</td>\n",
       "      <td>-0.063352</td>\n",
       "      <td>1.000000</td>\n",
       "      <td>0.198741</td>\n",
       "      <td>0.393681</td>\n",
       "    </tr>\n",
       "    <tr>\n",
       "      <th>alcohol</th>\n",
       "      <td>-0.085751</td>\n",
       "      <td>-0.223379</td>\n",
       "      <td>0.090691</td>\n",
       "      <td>0.123493</td>\n",
       "      <td>-0.309720</td>\n",
       "      <td>-0.064219</td>\n",
       "      <td>-0.243461</td>\n",
       "      <td>-0.471354</td>\n",
       "      <td>0.195499</td>\n",
       "      <td>0.198741</td>\n",
       "      <td>1.000000</td>\n",
       "      <td>0.495439</td>\n",
       "    </tr>\n",
       "    <tr>\n",
       "      <th>quality</th>\n",
       "      <td>0.103887</td>\n",
       "      <td>-0.397784</td>\n",
       "      <td>0.222882</td>\n",
       "      <td>0.030614</td>\n",
       "      <td>-0.193814</td>\n",
       "      <td>-0.059213</td>\n",
       "      <td>-0.194570</td>\n",
       "      <td>-0.176505</td>\n",
       "      <td>-0.033205</td>\n",
       "      <td>0.393681</td>\n",
       "      <td>0.495439</td>\n",
       "      <td>1.000000</td>\n",
       "    </tr>\n",
       "  </tbody>\n",
       "</table>\n",
       "</div>"
      ],
      "text/plain": [
       "                      fixed acidity  volatile acidity  citric acid  \\\n",
       "fixed acidity              1.000000         -0.271597     0.653749   \n",
       "volatile acidity          -0.271597          1.000000    -0.601305   \n",
       "citric acid                0.653749         -0.601305     1.000000   \n",
       "residual sugar             0.242521          0.012988     0.210283   \n",
       "chlorides                  0.272554          0.153031     0.142182   \n",
       "free sulfur dioxide       -0.190341          0.021178    -0.075070   \n",
       "total sulfur dioxide      -0.093900          0.101862     0.007291   \n",
       "density                    0.629644          0.019111     0.354884   \n",
       "pH                        -0.707010          0.222106    -0.544998   \n",
       "sulphates                  0.194222         -0.343500     0.340666   \n",
       "alcohol                   -0.085751         -0.223379     0.090691   \n",
       "quality                    0.103887         -0.397784     0.222882   \n",
       "\n",
       "                      residual sugar  chlorides  free sulfur dioxide  \\\n",
       "fixed acidity               0.242521   0.272554            -0.190341   \n",
       "volatile acidity            0.012988   0.153031             0.021178   \n",
       "citric acid                 0.210283   0.142182            -0.075070   \n",
       "residual sugar              1.000000   0.201531             0.051230   \n",
       "chlorides                   0.201531   1.000000             0.002484   \n",
       "free sulfur dioxide         0.051230   0.002484             1.000000   \n",
       "total sulfur dioxide        0.124370   0.126247             0.793745   \n",
       "density                     0.422578   0.426509            -0.071330   \n",
       "pH                         -0.108683  -0.249068             0.113952   \n",
       "sulphates                   0.030979   0.001763             0.028295   \n",
       "alcohol                     0.123493  -0.309720            -0.064219   \n",
       "quality                     0.030614  -0.193814            -0.059213   \n",
       "\n",
       "                      total sulfur dioxide   density        pH  sulphates  \\\n",
       "fixed acidity                    -0.093900  0.629644 -0.707010   0.194222   \n",
       "volatile acidity                  0.101862  0.019111  0.222106  -0.343500   \n",
       "citric acid                       0.007291  0.354884 -0.544998   0.340666   \n",
       "residual sugar                    0.124370  0.422578 -0.108683   0.030979   \n",
       "chlorides                         0.126247  0.426509 -0.249068   0.001763   \n",
       "free sulfur dioxide               0.793745 -0.071330  0.113952   0.028295   \n",
       "total sulfur dioxide              1.000000  0.109786 -0.001788  -0.010544   \n",
       "density                           0.109786  1.000000 -0.316985   0.154057   \n",
       "pH                               -0.001788 -0.316985  1.000000  -0.063352   \n",
       "sulphates                        -0.010544  0.154057 -0.063352   1.000000   \n",
       "alcohol                          -0.243461 -0.471354  0.195499   0.198741   \n",
       "quality                          -0.194570 -0.176505 -0.033205   0.393681   \n",
       "\n",
       "                       alcohol   quality  \n",
       "fixed acidity        -0.085751  0.103887  \n",
       "volatile acidity     -0.223379 -0.397784  \n",
       "citric acid           0.090691  0.222882  \n",
       "residual sugar        0.123493  0.030614  \n",
       "chlorides            -0.309720 -0.193814  \n",
       "free sulfur dioxide  -0.064219 -0.059213  \n",
       "total sulfur dioxide -0.243461 -0.194570  \n",
       "density              -0.471354 -0.176505  \n",
       "pH                    0.195499 -0.033205  \n",
       "sulphates             0.198741  0.393681  \n",
       "alcohol               1.000000  0.495439  \n",
       "quality               0.495439  1.000000  "
      ]
     },
     "execution_count": 74,
     "metadata": {},
     "output_type": "execute_result"
    }
   ],
   "source": [
    "temp_corr_combined=df.corr(method='spearman')\n",
    "temp_corr_combined"
   ]
  },
  {
   "cell_type": "code",
   "execution_count": 78,
   "id": "b4f917c1",
   "metadata": {
    "scrolled": true
   },
   "outputs": [
    {
     "data": {
      "application/vnd.plotly.v1+json": {
       "config": {
        "plotlyServerURL": "https://plot.ly"
       },
       "data": [
        {
         "coloraxis": "coloraxis",
         "hovertemplate": "x: %{x}<br>y: %{y}<br>color: %{z}<extra></extra>",
         "name": "0",
         "texttemplate": "%{z}",
         "type": "heatmap",
         "x": [
          "fixed acidity",
          "volatile acidity",
          "citric acid",
          "residual sugar",
          "chlorides",
          "free sulfur dioxide",
          "total sulfur dioxide",
          "density",
          "pH",
          "sulphates",
          "alcohol",
          "quality"
         ],
         "xaxis": "x",
         "y": [
          "fixed acidity",
          "volatile acidity",
          "citric acid",
          "residual sugar",
          "chlorides",
          "free sulfur dioxide",
          "total sulfur dioxide",
          "density",
          "pH",
          "sulphates",
          "alcohol",
          "quality"
         ],
         "yaxis": "y",
         "z": [
          [
           1,
           -0.27,
           0.65,
           0.24,
           0.27,
           -0.19,
           -0.09,
           0.63,
           -0.71,
           0.19,
           -0.09,
           0.1
          ],
          [
           -0.27,
           1,
           -0.6,
           0.01,
           0.15,
           0.02,
           0.1,
           0.02,
           0.22,
           -0.34,
           -0.22,
           -0.4
          ],
          [
           0.65,
           -0.6,
           1,
           0.21,
           0.14,
           -0.08,
           0.01,
           0.35,
           -0.54,
           0.34,
           0.09,
           0.22
          ],
          [
           0.24,
           0.01,
           0.21,
           1,
           0.2,
           0.05,
           0.12,
           0.42,
           -0.11,
           0.03,
           0.12,
           0.03
          ],
          [
           0.27,
           0.15,
           0.14,
           0.2,
           1,
           0,
           0.13,
           0.43,
           -0.25,
           0,
           -0.31,
           -0.19
          ],
          [
           -0.19,
           0.02,
           -0.08,
           0.05,
           0,
           1,
           0.79,
           -0.07,
           0.11,
           0.03,
           -0.06,
           -0.06
          ],
          [
           -0.09,
           0.1,
           0.01,
           0.12,
           0.13,
           0.79,
           1,
           0.11,
           0,
           -0.01,
           -0.24,
           -0.19
          ],
          [
           0.63,
           0.02,
           0.35,
           0.42,
           0.43,
           -0.07,
           0.11,
           1,
           -0.32,
           0.15,
           -0.47,
           -0.18
          ],
          [
           -0.71,
           0.22,
           -0.54,
           -0.11,
           -0.25,
           0.11,
           0,
           -0.32,
           1,
           -0.06,
           0.2,
           -0.03
          ],
          [
           0.19,
           -0.34,
           0.34,
           0.03,
           0,
           0.03,
           -0.01,
           0.15,
           -0.06,
           1,
           0.2,
           0.39
          ],
          [
           -0.09,
           -0.22,
           0.09,
           0.12,
           -0.31,
           -0.06,
           -0.24,
           -0.47,
           0.2,
           0.2,
           1,
           0.5
          ],
          [
           0.1,
           -0.4,
           0.22,
           0.03,
           -0.19,
           -0.06,
           -0.19,
           -0.18,
           -0.03,
           0.39,
           0.5,
           1
          ]
         ]
        }
       ],
       "layout": {
        "coloraxis": {
         "cmax": 1,
         "cmin": -1,
         "colorscale": [
          [
           0,
           "#DEB078"
          ],
          [
           1,
           "#990012"
          ]
         ]
        },
        "height": 650,
        "margin": {
         "t": 60
        },
        "template": {
         "data": {
          "bar": [
           {
            "error_x": {
             "color": "#2a3f5f"
            },
            "error_y": {
             "color": "#2a3f5f"
            },
            "marker": {
             "line": {
              "color": "#E5ECF6",
              "width": 0.5
             },
             "pattern": {
              "fillmode": "overlay",
              "size": 10,
              "solidity": 0.2
             }
            },
            "type": "bar"
           }
          ],
          "barpolar": [
           {
            "marker": {
             "line": {
              "color": "#E5ECF6",
              "width": 0.5
             },
             "pattern": {
              "fillmode": "overlay",
              "size": 10,
              "solidity": 0.2
             }
            },
            "type": "barpolar"
           }
          ],
          "carpet": [
           {
            "aaxis": {
             "endlinecolor": "#2a3f5f",
             "gridcolor": "white",
             "linecolor": "white",
             "minorgridcolor": "white",
             "startlinecolor": "#2a3f5f"
            },
            "baxis": {
             "endlinecolor": "#2a3f5f",
             "gridcolor": "white",
             "linecolor": "white",
             "minorgridcolor": "white",
             "startlinecolor": "#2a3f5f"
            },
            "type": "carpet"
           }
          ],
          "choropleth": [
           {
            "colorbar": {
             "outlinewidth": 0,
             "ticks": ""
            },
            "type": "choropleth"
           }
          ],
          "contour": [
           {
            "colorbar": {
             "outlinewidth": 0,
             "ticks": ""
            },
            "colorscale": [
             [
              0,
              "#0d0887"
             ],
             [
              0.1111111111111111,
              "#46039f"
             ],
             [
              0.2222222222222222,
              "#7201a8"
             ],
             [
              0.3333333333333333,
              "#9c179e"
             ],
             [
              0.4444444444444444,
              "#bd3786"
             ],
             [
              0.5555555555555556,
              "#d8576b"
             ],
             [
              0.6666666666666666,
              "#ed7953"
             ],
             [
              0.7777777777777778,
              "#fb9f3a"
             ],
             [
              0.8888888888888888,
              "#fdca26"
             ],
             [
              1,
              "#f0f921"
             ]
            ],
            "type": "contour"
           }
          ],
          "contourcarpet": [
           {
            "colorbar": {
             "outlinewidth": 0,
             "ticks": ""
            },
            "type": "contourcarpet"
           }
          ],
          "heatmap": [
           {
            "colorbar": {
             "outlinewidth": 0,
             "ticks": ""
            },
            "colorscale": [
             [
              0,
              "#0d0887"
             ],
             [
              0.1111111111111111,
              "#46039f"
             ],
             [
              0.2222222222222222,
              "#7201a8"
             ],
             [
              0.3333333333333333,
              "#9c179e"
             ],
             [
              0.4444444444444444,
              "#bd3786"
             ],
             [
              0.5555555555555556,
              "#d8576b"
             ],
             [
              0.6666666666666666,
              "#ed7953"
             ],
             [
              0.7777777777777778,
              "#fb9f3a"
             ],
             [
              0.8888888888888888,
              "#fdca26"
             ],
             [
              1,
              "#f0f921"
             ]
            ],
            "type": "heatmap"
           }
          ],
          "heatmapgl": [
           {
            "colorbar": {
             "outlinewidth": 0,
             "ticks": ""
            },
            "colorscale": [
             [
              0,
              "#0d0887"
             ],
             [
              0.1111111111111111,
              "#46039f"
             ],
             [
              0.2222222222222222,
              "#7201a8"
             ],
             [
              0.3333333333333333,
              "#9c179e"
             ],
             [
              0.4444444444444444,
              "#bd3786"
             ],
             [
              0.5555555555555556,
              "#d8576b"
             ],
             [
              0.6666666666666666,
              "#ed7953"
             ],
             [
              0.7777777777777778,
              "#fb9f3a"
             ],
             [
              0.8888888888888888,
              "#fdca26"
             ],
             [
              1,
              "#f0f921"
             ]
            ],
            "type": "heatmapgl"
           }
          ],
          "histogram": [
           {
            "marker": {
             "pattern": {
              "fillmode": "overlay",
              "size": 10,
              "solidity": 0.2
             }
            },
            "type": "histogram"
           }
          ],
          "histogram2d": [
           {
            "colorbar": {
             "outlinewidth": 0,
             "ticks": ""
            },
            "colorscale": [
             [
              0,
              "#0d0887"
             ],
             [
              0.1111111111111111,
              "#46039f"
             ],
             [
              0.2222222222222222,
              "#7201a8"
             ],
             [
              0.3333333333333333,
              "#9c179e"
             ],
             [
              0.4444444444444444,
              "#bd3786"
             ],
             [
              0.5555555555555556,
              "#d8576b"
             ],
             [
              0.6666666666666666,
              "#ed7953"
             ],
             [
              0.7777777777777778,
              "#fb9f3a"
             ],
             [
              0.8888888888888888,
              "#fdca26"
             ],
             [
              1,
              "#f0f921"
             ]
            ],
            "type": "histogram2d"
           }
          ],
          "histogram2dcontour": [
           {
            "colorbar": {
             "outlinewidth": 0,
             "ticks": ""
            },
            "colorscale": [
             [
              0,
              "#0d0887"
             ],
             [
              0.1111111111111111,
              "#46039f"
             ],
             [
              0.2222222222222222,
              "#7201a8"
             ],
             [
              0.3333333333333333,
              "#9c179e"
             ],
             [
              0.4444444444444444,
              "#bd3786"
             ],
             [
              0.5555555555555556,
              "#d8576b"
             ],
             [
              0.6666666666666666,
              "#ed7953"
             ],
             [
              0.7777777777777778,
              "#fb9f3a"
             ],
             [
              0.8888888888888888,
              "#fdca26"
             ],
             [
              1,
              "#f0f921"
             ]
            ],
            "type": "histogram2dcontour"
           }
          ],
          "mesh3d": [
           {
            "colorbar": {
             "outlinewidth": 0,
             "ticks": ""
            },
            "type": "mesh3d"
           }
          ],
          "parcoords": [
           {
            "line": {
             "colorbar": {
              "outlinewidth": 0,
              "ticks": ""
             }
            },
            "type": "parcoords"
           }
          ],
          "pie": [
           {
            "automargin": true,
            "type": "pie"
           }
          ],
          "scatter": [
           {
            "fillpattern": {
             "fillmode": "overlay",
             "size": 10,
             "solidity": 0.2
            },
            "type": "scatter"
           }
          ],
          "scatter3d": [
           {
            "line": {
             "colorbar": {
              "outlinewidth": 0,
              "ticks": ""
             }
            },
            "marker": {
             "colorbar": {
              "outlinewidth": 0,
              "ticks": ""
             }
            },
            "type": "scatter3d"
           }
          ],
          "scattercarpet": [
           {
            "marker": {
             "colorbar": {
              "outlinewidth": 0,
              "ticks": ""
             }
            },
            "type": "scattercarpet"
           }
          ],
          "scattergeo": [
           {
            "marker": {
             "colorbar": {
              "outlinewidth": 0,
              "ticks": ""
             }
            },
            "type": "scattergeo"
           }
          ],
          "scattergl": [
           {
            "marker": {
             "colorbar": {
              "outlinewidth": 0,
              "ticks": ""
             }
            },
            "type": "scattergl"
           }
          ],
          "scattermapbox": [
           {
            "marker": {
             "colorbar": {
              "outlinewidth": 0,
              "ticks": ""
             }
            },
            "type": "scattermapbox"
           }
          ],
          "scatterpolar": [
           {
            "marker": {
             "colorbar": {
              "outlinewidth": 0,
              "ticks": ""
             }
            },
            "type": "scatterpolar"
           }
          ],
          "scatterpolargl": [
           {
            "marker": {
             "colorbar": {
              "outlinewidth": 0,
              "ticks": ""
             }
            },
            "type": "scatterpolargl"
           }
          ],
          "scatterternary": [
           {
            "marker": {
             "colorbar": {
              "outlinewidth": 0,
              "ticks": ""
             }
            },
            "type": "scatterternary"
           }
          ],
          "surface": [
           {
            "colorbar": {
             "outlinewidth": 0,
             "ticks": ""
            },
            "colorscale": [
             [
              0,
              "#0d0887"
             ],
             [
              0.1111111111111111,
              "#46039f"
             ],
             [
              0.2222222222222222,
              "#7201a8"
             ],
             [
              0.3333333333333333,
              "#9c179e"
             ],
             [
              0.4444444444444444,
              "#bd3786"
             ],
             [
              0.5555555555555556,
              "#d8576b"
             ],
             [
              0.6666666666666666,
              "#ed7953"
             ],
             [
              0.7777777777777778,
              "#fb9f3a"
             ],
             [
              0.8888888888888888,
              "#fdca26"
             ],
             [
              1,
              "#f0f921"
             ]
            ],
            "type": "surface"
           }
          ],
          "table": [
           {
            "cells": {
             "fill": {
              "color": "#EBF0F8"
             },
             "line": {
              "color": "white"
             }
            },
            "header": {
             "fill": {
              "color": "#C8D4E3"
             },
             "line": {
              "color": "white"
             }
            },
            "type": "table"
           }
          ]
         },
         "layout": {
          "annotationdefaults": {
           "arrowcolor": "#2a3f5f",
           "arrowhead": 0,
           "arrowwidth": 1
          },
          "autotypenumbers": "strict",
          "coloraxis": {
           "colorbar": {
            "outlinewidth": 0,
            "ticks": ""
           }
          },
          "colorscale": {
           "diverging": [
            [
             0,
             "#8e0152"
            ],
            [
             0.1,
             "#c51b7d"
            ],
            [
             0.2,
             "#de77ae"
            ],
            [
             0.3,
             "#f1b6da"
            ],
            [
             0.4,
             "#fde0ef"
            ],
            [
             0.5,
             "#f7f7f7"
            ],
            [
             0.6,
             "#e6f5d0"
            ],
            [
             0.7,
             "#b8e186"
            ],
            [
             0.8,
             "#7fbc41"
            ],
            [
             0.9,
             "#4d9221"
            ],
            [
             1,
             "#276419"
            ]
           ],
           "sequential": [
            [
             0,
             "#0d0887"
            ],
            [
             0.1111111111111111,
             "#46039f"
            ],
            [
             0.2222222222222222,
             "#7201a8"
            ],
            [
             0.3333333333333333,
             "#9c179e"
            ],
            [
             0.4444444444444444,
             "#bd3786"
            ],
            [
             0.5555555555555556,
             "#d8576b"
            ],
            [
             0.6666666666666666,
             "#ed7953"
            ],
            [
             0.7777777777777778,
             "#fb9f3a"
            ],
            [
             0.8888888888888888,
             "#fdca26"
            ],
            [
             1,
             "#f0f921"
            ]
           ],
           "sequentialminus": [
            [
             0,
             "#0d0887"
            ],
            [
             0.1111111111111111,
             "#46039f"
            ],
            [
             0.2222222222222222,
             "#7201a8"
            ],
            [
             0.3333333333333333,
             "#9c179e"
            ],
            [
             0.4444444444444444,
             "#bd3786"
            ],
            [
             0.5555555555555556,
             "#d8576b"
            ],
            [
             0.6666666666666666,
             "#ed7953"
            ],
            [
             0.7777777777777778,
             "#fb9f3a"
            ],
            [
             0.8888888888888888,
             "#fdca26"
            ],
            [
             1,
             "#f0f921"
            ]
           ]
          },
          "colorway": [
           "#636efa",
           "#EF553B",
           "#00cc96",
           "#ab63fa",
           "#FFA15A",
           "#19d3f3",
           "#FF6692",
           "#B6E880",
           "#FF97FF",
           "#FECB52"
          ],
          "font": {
           "color": "#2a3f5f"
          },
          "geo": {
           "bgcolor": "white",
           "lakecolor": "white",
           "landcolor": "#E5ECF6",
           "showlakes": true,
           "showland": true,
           "subunitcolor": "white"
          },
          "hoverlabel": {
           "align": "left"
          },
          "hovermode": "closest",
          "mapbox": {
           "style": "light"
          },
          "paper_bgcolor": "white",
          "plot_bgcolor": "#E5ECF6",
          "polar": {
           "angularaxis": {
            "gridcolor": "white",
            "linecolor": "white",
            "ticks": ""
           },
           "bgcolor": "#E5ECF6",
           "radialaxis": {
            "gridcolor": "white",
            "linecolor": "white",
            "ticks": ""
           }
          },
          "scene": {
           "xaxis": {
            "backgroundcolor": "#E5ECF6",
            "gridcolor": "white",
            "gridwidth": 2,
            "linecolor": "white",
            "showbackground": true,
            "ticks": "",
            "zerolinecolor": "white"
           },
           "yaxis": {
            "backgroundcolor": "#E5ECF6",
            "gridcolor": "white",
            "gridwidth": 2,
            "linecolor": "white",
            "showbackground": true,
            "ticks": "",
            "zerolinecolor": "white"
           },
           "zaxis": {
            "backgroundcolor": "#E5ECF6",
            "gridcolor": "white",
            "gridwidth": 2,
            "linecolor": "white",
            "showbackground": true,
            "ticks": "",
            "zerolinecolor": "white"
           }
          },
          "shapedefaults": {
           "line": {
            "color": "#2a3f5f"
           }
          },
          "ternary": {
           "aaxis": {
            "gridcolor": "white",
            "linecolor": "white",
            "ticks": ""
           },
           "baxis": {
            "gridcolor": "white",
            "linecolor": "white",
            "ticks": ""
           },
           "bgcolor": "#E5ECF6",
           "caxis": {
            "gridcolor": "white",
            "linecolor": "white",
            "ticks": ""
           }
          },
          "title": {
           "x": 0.05
          },
          "xaxis": {
           "automargin": true,
           "gridcolor": "white",
           "linecolor": "white",
           "ticks": "",
           "title": {
            "standoff": 15
           },
           "zerolinecolor": "white",
           "zerolinewidth": 2
          },
          "yaxis": {
           "automargin": true,
           "gridcolor": "white",
           "linecolor": "white",
           "ticks": "",
           "title": {
            "standoff": 15
           },
           "zerolinecolor": "white",
           "zerolinewidth": 2
          }
         }
        },
        "width": 1200,
        "xaxis": {
         "anchor": "y",
         "constrain": "domain",
         "domain": [
          0,
          1
         ],
         "scaleanchor": "y"
        },
        "yaxis": {
         "anchor": "x",
         "autorange": "reversed",
         "constrain": "domain",
         "domain": [
          0,
          1
         ]
        }
       }
      },
      "text/html": [
       "<div>                            <div id=\"452486d1-345c-4a38-93e5-1faf24025d5a\" class=\"plotly-graph-div\" style=\"height:650px; width:1200px;\"></div>            <script type=\"text/javascript\">                require([\"plotly\"], function(Plotly) {                    window.PLOTLYENV=window.PLOTLYENV || {};                                    if (document.getElementById(\"452486d1-345c-4a38-93e5-1faf24025d5a\")) {                    Plotly.newPlot(                        \"452486d1-345c-4a38-93e5-1faf24025d5a\",                        [{\"coloraxis\":\"coloraxis\",\"name\":\"0\",\"texttemplate\":\"%{z}\",\"x\":[\"fixed acidity\",\"volatile acidity\",\"citric acid\",\"residual sugar\",\"chlorides\",\"free sulfur dioxide\",\"total sulfur dioxide\",\"density\",\"pH\",\"sulphates\",\"alcohol\",\"quality\"],\"y\":[\"fixed acidity\",\"volatile acidity\",\"citric acid\",\"residual sugar\",\"chlorides\",\"free sulfur dioxide\",\"total sulfur dioxide\",\"density\",\"pH\",\"sulphates\",\"alcohol\",\"quality\"],\"z\":[[1.0,-0.27,0.65,0.24,0.27,-0.19,-0.09,0.63,-0.71,0.19,-0.09,0.1],[-0.27,1.0,-0.6,0.01,0.15,0.02,0.1,0.02,0.22,-0.34,-0.22,-0.4],[0.65,-0.6,1.0,0.21,0.14,-0.08,0.01,0.35,-0.54,0.34,0.09,0.22],[0.24,0.01,0.21,1.0,0.2,0.05,0.12,0.42,-0.11,0.03,0.12,0.03],[0.27,0.15,0.14,0.2,1.0,0.0,0.13,0.43,-0.25,0.0,-0.31,-0.19],[-0.19,0.02,-0.08,0.05,0.0,1.0,0.79,-0.07,0.11,0.03,-0.06,-0.06],[-0.09,0.1,0.01,0.12,0.13,0.79,1.0,0.11,-0.0,-0.01,-0.24,-0.19],[0.63,0.02,0.35,0.42,0.43,-0.07,0.11,1.0,-0.32,0.15,-0.47,-0.18],[-0.71,0.22,-0.54,-0.11,-0.25,0.11,-0.0,-0.32,1.0,-0.06,0.2,-0.03],[0.19,-0.34,0.34,0.03,0.0,0.03,-0.01,0.15,-0.06,1.0,0.2,0.39],[-0.09,-0.22,0.09,0.12,-0.31,-0.06,-0.24,-0.47,0.2,0.2,1.0,0.5],[0.1,-0.4,0.22,0.03,-0.19,-0.06,-0.19,-0.18,-0.03,0.39,0.5,1.0]],\"type\":\"heatmap\",\"xaxis\":\"x\",\"yaxis\":\"y\",\"hovertemplate\":\"x: %{x}<br>y: %{y}<br>color: %{z}<extra></extra>\"}],                        {\"template\":{\"data\":{\"histogram2dcontour\":[{\"type\":\"histogram2dcontour\",\"colorbar\":{\"outlinewidth\":0,\"ticks\":\"\"},\"colorscale\":[[0.0,\"#0d0887\"],[0.1111111111111111,\"#46039f\"],[0.2222222222222222,\"#7201a8\"],[0.3333333333333333,\"#9c179e\"],[0.4444444444444444,\"#bd3786\"],[0.5555555555555556,\"#d8576b\"],[0.6666666666666666,\"#ed7953\"],[0.7777777777777778,\"#fb9f3a\"],[0.8888888888888888,\"#fdca26\"],[1.0,\"#f0f921\"]]}],\"choropleth\":[{\"type\":\"choropleth\",\"colorbar\":{\"outlinewidth\":0,\"ticks\":\"\"}}],\"histogram2d\":[{\"type\":\"histogram2d\",\"colorbar\":{\"outlinewidth\":0,\"ticks\":\"\"},\"colorscale\":[[0.0,\"#0d0887\"],[0.1111111111111111,\"#46039f\"],[0.2222222222222222,\"#7201a8\"],[0.3333333333333333,\"#9c179e\"],[0.4444444444444444,\"#bd3786\"],[0.5555555555555556,\"#d8576b\"],[0.6666666666666666,\"#ed7953\"],[0.7777777777777778,\"#fb9f3a\"],[0.8888888888888888,\"#fdca26\"],[1.0,\"#f0f921\"]]}],\"heatmap\":[{\"type\":\"heatmap\",\"colorbar\":{\"outlinewidth\":0,\"ticks\":\"\"},\"colorscale\":[[0.0,\"#0d0887\"],[0.1111111111111111,\"#46039f\"],[0.2222222222222222,\"#7201a8\"],[0.3333333333333333,\"#9c179e\"],[0.4444444444444444,\"#bd3786\"],[0.5555555555555556,\"#d8576b\"],[0.6666666666666666,\"#ed7953\"],[0.7777777777777778,\"#fb9f3a\"],[0.8888888888888888,\"#fdca26\"],[1.0,\"#f0f921\"]]}],\"heatmapgl\":[{\"type\":\"heatmapgl\",\"colorbar\":{\"outlinewidth\":0,\"ticks\":\"\"},\"colorscale\":[[0.0,\"#0d0887\"],[0.1111111111111111,\"#46039f\"],[0.2222222222222222,\"#7201a8\"],[0.3333333333333333,\"#9c179e\"],[0.4444444444444444,\"#bd3786\"],[0.5555555555555556,\"#d8576b\"],[0.6666666666666666,\"#ed7953\"],[0.7777777777777778,\"#fb9f3a\"],[0.8888888888888888,\"#fdca26\"],[1.0,\"#f0f921\"]]}],\"contourcarpet\":[{\"type\":\"contourcarpet\",\"colorbar\":{\"outlinewidth\":0,\"ticks\":\"\"}}],\"contour\":[{\"type\":\"contour\",\"colorbar\":{\"outlinewidth\":0,\"ticks\":\"\"},\"colorscale\":[[0.0,\"#0d0887\"],[0.1111111111111111,\"#46039f\"],[0.2222222222222222,\"#7201a8\"],[0.3333333333333333,\"#9c179e\"],[0.4444444444444444,\"#bd3786\"],[0.5555555555555556,\"#d8576b\"],[0.6666666666666666,\"#ed7953\"],[0.7777777777777778,\"#fb9f3a\"],[0.8888888888888888,\"#fdca26\"],[1.0,\"#f0f921\"]]}],\"surface\":[{\"type\":\"surface\",\"colorbar\":{\"outlinewidth\":0,\"ticks\":\"\"},\"colorscale\":[[0.0,\"#0d0887\"],[0.1111111111111111,\"#46039f\"],[0.2222222222222222,\"#7201a8\"],[0.3333333333333333,\"#9c179e\"],[0.4444444444444444,\"#bd3786\"],[0.5555555555555556,\"#d8576b\"],[0.6666666666666666,\"#ed7953\"],[0.7777777777777778,\"#fb9f3a\"],[0.8888888888888888,\"#fdca26\"],[1.0,\"#f0f921\"]]}],\"mesh3d\":[{\"type\":\"mesh3d\",\"colorbar\":{\"outlinewidth\":0,\"ticks\":\"\"}}],\"scatter\":[{\"fillpattern\":{\"fillmode\":\"overlay\",\"size\":10,\"solidity\":0.2},\"type\":\"scatter\"}],\"parcoords\":[{\"type\":\"parcoords\",\"line\":{\"colorbar\":{\"outlinewidth\":0,\"ticks\":\"\"}}}],\"scatterpolargl\":[{\"type\":\"scatterpolargl\",\"marker\":{\"colorbar\":{\"outlinewidth\":0,\"ticks\":\"\"}}}],\"bar\":[{\"error_x\":{\"color\":\"#2a3f5f\"},\"error_y\":{\"color\":\"#2a3f5f\"},\"marker\":{\"line\":{\"color\":\"#E5ECF6\",\"width\":0.5},\"pattern\":{\"fillmode\":\"overlay\",\"size\":10,\"solidity\":0.2}},\"type\":\"bar\"}],\"scattergeo\":[{\"type\":\"scattergeo\",\"marker\":{\"colorbar\":{\"outlinewidth\":0,\"ticks\":\"\"}}}],\"scatterpolar\":[{\"type\":\"scatterpolar\",\"marker\":{\"colorbar\":{\"outlinewidth\":0,\"ticks\":\"\"}}}],\"histogram\":[{\"marker\":{\"pattern\":{\"fillmode\":\"overlay\",\"size\":10,\"solidity\":0.2}},\"type\":\"histogram\"}],\"scattergl\":[{\"type\":\"scattergl\",\"marker\":{\"colorbar\":{\"outlinewidth\":0,\"ticks\":\"\"}}}],\"scatter3d\":[{\"type\":\"scatter3d\",\"line\":{\"colorbar\":{\"outlinewidth\":0,\"ticks\":\"\"}},\"marker\":{\"colorbar\":{\"outlinewidth\":0,\"ticks\":\"\"}}}],\"scattermapbox\":[{\"type\":\"scattermapbox\",\"marker\":{\"colorbar\":{\"outlinewidth\":0,\"ticks\":\"\"}}}],\"scatterternary\":[{\"type\":\"scatterternary\",\"marker\":{\"colorbar\":{\"outlinewidth\":0,\"ticks\":\"\"}}}],\"scattercarpet\":[{\"type\":\"scattercarpet\",\"marker\":{\"colorbar\":{\"outlinewidth\":0,\"ticks\":\"\"}}}],\"carpet\":[{\"aaxis\":{\"endlinecolor\":\"#2a3f5f\",\"gridcolor\":\"white\",\"linecolor\":\"white\",\"minorgridcolor\":\"white\",\"startlinecolor\":\"#2a3f5f\"},\"baxis\":{\"endlinecolor\":\"#2a3f5f\",\"gridcolor\":\"white\",\"linecolor\":\"white\",\"minorgridcolor\":\"white\",\"startlinecolor\":\"#2a3f5f\"},\"type\":\"carpet\"}],\"table\":[{\"cells\":{\"fill\":{\"color\":\"#EBF0F8\"},\"line\":{\"color\":\"white\"}},\"header\":{\"fill\":{\"color\":\"#C8D4E3\"},\"line\":{\"color\":\"white\"}},\"type\":\"table\"}],\"barpolar\":[{\"marker\":{\"line\":{\"color\":\"#E5ECF6\",\"width\":0.5},\"pattern\":{\"fillmode\":\"overlay\",\"size\":10,\"solidity\":0.2}},\"type\":\"barpolar\"}],\"pie\":[{\"automargin\":true,\"type\":\"pie\"}]},\"layout\":{\"autotypenumbers\":\"strict\",\"colorway\":[\"#636efa\",\"#EF553B\",\"#00cc96\",\"#ab63fa\",\"#FFA15A\",\"#19d3f3\",\"#FF6692\",\"#B6E880\",\"#FF97FF\",\"#FECB52\"],\"font\":{\"color\":\"#2a3f5f\"},\"hovermode\":\"closest\",\"hoverlabel\":{\"align\":\"left\"},\"paper_bgcolor\":\"white\",\"plot_bgcolor\":\"#E5ECF6\",\"polar\":{\"bgcolor\":\"#E5ECF6\",\"angularaxis\":{\"gridcolor\":\"white\",\"linecolor\":\"white\",\"ticks\":\"\"},\"radialaxis\":{\"gridcolor\":\"white\",\"linecolor\":\"white\",\"ticks\":\"\"}},\"ternary\":{\"bgcolor\":\"#E5ECF6\",\"aaxis\":{\"gridcolor\":\"white\",\"linecolor\":\"white\",\"ticks\":\"\"},\"baxis\":{\"gridcolor\":\"white\",\"linecolor\":\"white\",\"ticks\":\"\"},\"caxis\":{\"gridcolor\":\"white\",\"linecolor\":\"white\",\"ticks\":\"\"}},\"coloraxis\":{\"colorbar\":{\"outlinewidth\":0,\"ticks\":\"\"}},\"colorscale\":{\"sequential\":[[0.0,\"#0d0887\"],[0.1111111111111111,\"#46039f\"],[0.2222222222222222,\"#7201a8\"],[0.3333333333333333,\"#9c179e\"],[0.4444444444444444,\"#bd3786\"],[0.5555555555555556,\"#d8576b\"],[0.6666666666666666,\"#ed7953\"],[0.7777777777777778,\"#fb9f3a\"],[0.8888888888888888,\"#fdca26\"],[1.0,\"#f0f921\"]],\"sequentialminus\":[[0.0,\"#0d0887\"],[0.1111111111111111,\"#46039f\"],[0.2222222222222222,\"#7201a8\"],[0.3333333333333333,\"#9c179e\"],[0.4444444444444444,\"#bd3786\"],[0.5555555555555556,\"#d8576b\"],[0.6666666666666666,\"#ed7953\"],[0.7777777777777778,\"#fb9f3a\"],[0.8888888888888888,\"#fdca26\"],[1.0,\"#f0f921\"]],\"diverging\":[[0,\"#8e0152\"],[0.1,\"#c51b7d\"],[0.2,\"#de77ae\"],[0.3,\"#f1b6da\"],[0.4,\"#fde0ef\"],[0.5,\"#f7f7f7\"],[0.6,\"#e6f5d0\"],[0.7,\"#b8e186\"],[0.8,\"#7fbc41\"],[0.9,\"#4d9221\"],[1,\"#276419\"]]},\"xaxis\":{\"gridcolor\":\"white\",\"linecolor\":\"white\",\"ticks\":\"\",\"title\":{\"standoff\":15},\"zerolinecolor\":\"white\",\"automargin\":true,\"zerolinewidth\":2},\"yaxis\":{\"gridcolor\":\"white\",\"linecolor\":\"white\",\"ticks\":\"\",\"title\":{\"standoff\":15},\"zerolinecolor\":\"white\",\"automargin\":true,\"zerolinewidth\":2},\"scene\":{\"xaxis\":{\"backgroundcolor\":\"#E5ECF6\",\"gridcolor\":\"white\",\"linecolor\":\"white\",\"showbackground\":true,\"ticks\":\"\",\"zerolinecolor\":\"white\",\"gridwidth\":2},\"yaxis\":{\"backgroundcolor\":\"#E5ECF6\",\"gridcolor\":\"white\",\"linecolor\":\"white\",\"showbackground\":true,\"ticks\":\"\",\"zerolinecolor\":\"white\",\"gridwidth\":2},\"zaxis\":{\"backgroundcolor\":\"#E5ECF6\",\"gridcolor\":\"white\",\"linecolor\":\"white\",\"showbackground\":true,\"ticks\":\"\",\"zerolinecolor\":\"white\",\"gridwidth\":2}},\"shapedefaults\":{\"line\":{\"color\":\"#2a3f5f\"}},\"annotationdefaults\":{\"arrowcolor\":\"#2a3f5f\",\"arrowhead\":0,\"arrowwidth\":1},\"geo\":{\"bgcolor\":\"white\",\"landcolor\":\"#E5ECF6\",\"subunitcolor\":\"white\",\"showland\":true,\"showlakes\":true,\"lakecolor\":\"white\"},\"title\":{\"x\":0.05},\"mapbox\":{\"style\":\"light\"}}},\"xaxis\":{\"anchor\":\"y\",\"domain\":[0.0,1.0],\"scaleanchor\":\"y\",\"constrain\":\"domain\"},\"yaxis\":{\"anchor\":\"x\",\"domain\":[0.0,1.0],\"autorange\":\"reversed\",\"constrain\":\"domain\"},\"coloraxis\":{\"colorscale\":[[0.0,\"#DEB078\"],[1.0,\"#990012\"]],\"cmin\":-1,\"cmax\":1},\"margin\":{\"t\":60},\"height\":650,\"width\":1200},                        {\"responsive\": true}                    ).then(function(){\n",
       "                            \n",
       "var gd = document.getElementById('452486d1-345c-4a38-93e5-1faf24025d5a');\n",
       "var x = new MutationObserver(function (mutations, observer) {{\n",
       "        var display = window.getComputedStyle(gd).display;\n",
       "        if (!display || display === 'none') {{\n",
       "            console.log([gd, 'removed!']);\n",
       "            Plotly.purge(gd);\n",
       "            observer.disconnect();\n",
       "        }}\n",
       "}});\n",
       "\n",
       "// Listen for the removal of the full notebook cells\n",
       "var notebookContainer = gd.closest('#notebook-container');\n",
       "if (notebookContainer) {{\n",
       "    x.observe(notebookContainer, {childList: true});\n",
       "}}\n",
       "\n",
       "// Listen for the clearing of the current output cell\n",
       "var outputEl = gd.closest('.output');\n",
       "if (outputEl) {{\n",
       "    x.observe(outputEl, {childList: true});\n",
       "}}\n",
       "\n",
       "                        })                };                });            </script>        </div>"
      ]
     },
     "metadata": {},
     "output_type": "display_data"
    }
   ],
   "source": [
    "import plotly.express as px\n",
    "fig = px.imshow(df.corr(method='spearman').round(2),zmin=-1,zmax=1, text_auto=True,width=1200,height=650,aspect=None,color_continuous_scale=['#DEB078','#990012'])\n",
    "fig.show()"
   ]
  },
  {
   "cell_type": "code",
   "execution_count": 81,
   "id": "09f21b68",
   "metadata": {},
   "outputs": [
    {
     "data": {
      "text/html": [
       "<div>\n",
       "<style scoped>\n",
       "    .dataframe tbody tr th:only-of-type {\n",
       "        vertical-align: middle;\n",
       "    }\n",
       "\n",
       "    .dataframe tbody tr th {\n",
       "        vertical-align: top;\n",
       "    }\n",
       "\n",
       "    .dataframe thead th {\n",
       "        text-align: right;\n",
       "    }\n",
       "</style>\n",
       "<table border=\"1\" class=\"dataframe\">\n",
       "  <thead>\n",
       "    <tr style=\"text-align: right;\">\n",
       "      <th></th>\n",
       "      <th>fixed acidity</th>\n",
       "      <th>volatile acidity</th>\n",
       "      <th>citric acid</th>\n",
       "      <th>residual sugar</th>\n",
       "      <th>chlorides</th>\n",
       "      <th>free sulfur dioxide</th>\n",
       "      <th>total sulfur dioxide</th>\n",
       "      <th>density</th>\n",
       "      <th>pH</th>\n",
       "      <th>sulphates</th>\n",
       "      <th>alcohol</th>\n",
       "      <th>quality</th>\n",
       "    </tr>\n",
       "  </thead>\n",
       "  <tbody>\n",
       "    <tr>\n",
       "      <th>quality</th>\n",
       "      <td>0.103887</td>\n",
       "      <td>-0.397784</td>\n",
       "      <td>0.222882</td>\n",
       "      <td>0.030614</td>\n",
       "      <td>-0.193814</td>\n",
       "      <td>-0.059213</td>\n",
       "      <td>-0.19457</td>\n",
       "      <td>-0.176505</td>\n",
       "      <td>-0.033205</td>\n",
       "      <td>0.393681</td>\n",
       "      <td>0.495439</td>\n",
       "      <td>1.0</td>\n",
       "    </tr>\n",
       "  </tbody>\n",
       "</table>\n",
       "</div>"
      ],
      "text/plain": [
       "         fixed acidity  volatile acidity  citric acid  residual sugar  \\\n",
       "quality       0.103887         -0.397784     0.222882        0.030614   \n",
       "\n",
       "         chlorides  free sulfur dioxide  total sulfur dioxide   density  \\\n",
       "quality  -0.193814            -0.059213              -0.19457 -0.176505   \n",
       "\n",
       "               pH  sulphates   alcohol  quality  \n",
       "quality -0.033205   0.393681  0.495439      1.0  "
      ]
     },
     "execution_count": 81,
     "metadata": {},
     "output_type": "execute_result"
    }
   ],
   "source": [
    "temp_corr_score=df.corr(method='spearman').loc[['quality']]\n",
    "temp_corr_score"
   ]
  },
  {
   "cell_type": "code",
   "execution_count": 82,
   "id": "d504e536",
   "metadata": {},
   "outputs": [],
   "source": [
    "temp_corr_score.drop(columns='quality',inplace=True)\n",
    "strong=[]\n",
    "moderate=[]\n",
    "weak=[]\n",
    "no_relationship=[]\n",
    "for y in temp_corr_score.columns:\n",
    "    p=temp_corr_score[y][0]\n",
    "    if p >= 0.75 or p <= -0.75:\n",
    "        strong.append(y)\n",
    "    elif p >= 0.50 or p <= -0.50:\n",
    "        moderate.append(y)\n",
    "    elif p >= 0.25 or p <= -0.25:\n",
    "        weak.append(y)\n",
    "    else :\n",
    "        no_relationship.append(y)"
   ]
  },
  {
   "cell_type": "code",
   "execution_count": 85,
   "id": "bf99a5e9",
   "metadata": {},
   "outputs": [
    {
     "name": "stdout",
     "output_type": "stream",
     "text": [
      "\n",
      "Высокая связь ->  []\n",
      "\n",
      "Средняя связь ->  []\n",
      "\n",
      "Слабая связь ->  ['volatile acidity', 'sulphates', 'alcohol']\n",
      "\n",
      "Нет связи ->  ['fixed acidity', 'citric acid', 'residual sugar', 'chlorides', 'free sulfur dioxide', 'total sulfur dioxide', 'density', 'pH']\n"
     ]
    }
   ],
   "source": [
    "print('\\nВысокая связь -> ',strong)\n",
    "print('\\nСредняя связь -> ',moderate)\n",
    "print('\\nСлабая связь -> ',weak)\n",
    "print('\\nНет связи -> ',no_relationship)"
   ]
  },
  {
   "cell_type": "code",
   "execution_count": null,
   "id": "a3ad5e22",
   "metadata": {},
   "outputs": [],
   "source": [
    "# график рассеивания"
   ]
  },
  {
   "cell_type": "code",
   "execution_count": 87,
   "id": "34d9a46d",
   "metadata": {},
   "outputs": [
    {
     "data": {
      "image/png": "[encoded data removed]",
      "text/plain": [
       "<Figure size 1000x600 with 1 Axes>"
      ]
     },
     "metadata": {},
     "output_type": "display_data"
    }
   ],
   "source": [
    "fig, ax = plt.subplots(figsize=(10, 6))\n",
    "ax.scatter(x = df['sulphates'], y = df['alcohol'])\n",
    "plt.xlabel(\"sulphates\")\n",
    "plt.ylabel(\"alcohol\")\n",
    "\n",
    "plt.show()"
   ]
  },
  {
   "cell_type": "code",
   "execution_count": 90,
   "id": "59dee650",
   "metadata": {},
   "outputs": [
    {
     "data": {
      "image/png": "[encoded data removed]",
      "text/plain": [
       "<Figure size 2750x250 with 11 Axes>"
      ]
     },
     "metadata": {},
     "output_type": "display_data"
    }
   ],
   "source": [
    "sns.pairplot(data=df,\n",
    "                  y_vars='quality',\n",
    "                  x_vars=df.drop(columns=['quality']).columns\n",
    "            \n",
    ")\n",
    "                  \n",
    "plt.show()"
   ]
  },
  {
   "cell_type": "code",
   "execution_count": null,
   "id": "60585004",
   "metadata": {},
   "outputs": [],
   "source": []
  }
 ],
 "metadata": {
  "kernelspec": {
   "display_name": "Python 3 (ipykernel)",
   "language": "python",
   "name": "python3"
  },
  "language_info": {
   "codemirror_mode": {
    "name": "ipython",
    "version": 3
   },
   "file_extension": ".py",
   "mimetype": "text/x-python",
   "name": "python",
   "nbconvert_exporter": "python",
   "pygments_lexer": "ipython3",
   "version": "3.11.1"
  }
 },
 "nbformat": 4,
 "nbformat_minor": 5
}
